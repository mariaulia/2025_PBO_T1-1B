{
  "cells": [
    {
      "cell_type": "markdown",
      "metadata": {
        "id": "view-in-github",
        "colab_type": "text"
      },
      "source": [
        "<a href=\"https://colab.research.google.com/github/mariaulia/2025_PBO_T1-1B/blob/main/Jobsheet05_PBO.ipynb\" target=\"_parent\"><img src=\"https://colab.research.google.com/assets/colab-badge.svg\" alt=\"Open In Colab\"/></a>"
      ]
    },
    {
      "cell_type": "markdown",
      "source": [
        "#JOBSHEET 05: POLIMORFISME DAN MEMAHAMI OVERLOADING/OVERRIDING"
      ],
      "metadata": {
        "id": "zM31UFOgla0-"
      }
    },
    {
      "cell_type": "markdown",
      "source": [
        "##Praktikum 01: Polimorfisme dengan Inheritance dan Overriding"
      ],
      "metadata": {
        "id": "4GosPqECliME"
      }
    },
    {
      "cell_type": "code",
      "source": [
        "class Burung:\n",
        "  def __init__(self, nama):\n",
        "    self.nama = nama\n",
        "\n",
        "  def terbang(self):\n",
        "    print(f\"{self.nama} terbang dengan cara umum.\")\n",
        "\n",
        "  def bersuara(self):\n",
        "    print(f\"{self.nama} mengeluarkan suara burung.\")\n",
        "\n",
        "class Elang(Burung):\n",
        "  def __init__(self,nama,rentang_sayap):\n",
        "      super().__init__(nama)\n",
        "      self.rentang_sayap = rentang_sayap\n",
        "\n",
        "  def terbang(self):\n",
        "      print(f\"{self.nama} terbang tinggi melayang di angkasa.\")\n",
        "\n",
        "  def bersuara(self):\n",
        "      print(f\"{self.nama} berteriak nyaring!\")\n",
        "\n",
        "class Pipit(Burung):\n",
        "  def __init__(self,nama,warna_bulu):\n",
        "      super().__init__(nama)\n",
        "      self.warna_buru = warna_bulu\n",
        "\n",
        "  def terbang(self):\n",
        "      print(f\"{self.nama} terbang cepat di antara pepohonan.\")\n",
        "\n",
        "  def bersuara(self):\n",
        "      print(f\"{self.nama} berkicau merdu: Cit cit!.\")\n",
        "\n",
        "def demonstrasi_aksi_burung(daftar_burung):\n",
        "    print(\"\\nAksi Burung:\")\n",
        "    for burung in daftar_burung:\n",
        "        print(f\"-- Aksi untuk {burung.nama} --\")\n",
        "\n",
        "        burung.terbang()\n",
        "        burung.bersuara()\n",
        "        print(\"-\" * 15)\n",
        "\n",
        "#Kode Utama\n",
        "if __name__ == \"__main__\":\n",
        "  elang_jawa = Elang(\"Elang Jawa\", 1.5)\n",
        "  pipit_gereja = Pipit(\"Pipit Gereja\", \"Coklat\")\n",
        "  burung_aneh = Burung(\"Burung Misterius\")\n",
        "\n",
        "  koleksi_burung = [elang_jawa, pipit_gereja, burung_aneh]\n",
        "  demonstrasi_aksi_burung(koleksi_burung)\n",
        "\n",
        "  demonstrasi_aksi_burung(koleksi_burung)\n",
        "#"
      ],
      "metadata": {
        "id": "thNIZiY-lmn8",
        "colab": {
          "base_uri": "https://localhost:8080/"
        },
        "outputId": "b9eac4d8-2b82-404b-c81e-1b5e1072b7c1"
      },
      "execution_count": null,
      "outputs": [
        {
          "output_type": "stream",
          "name": "stdout",
          "text": [
            "\n",
            "Aksi Burung:\n",
            "-- Aksi untuk Elang Jawa --\n",
            "Elang Jawa terbang tinggi melayang di angkasa.\n",
            "Elang Jawa berteriak nyaring!\n",
            "---------------\n",
            "-- Aksi untuk Pipit Gereja --\n",
            "Pipit Gereja terbang cepat di antara pepohonan.\n",
            "Pipit Gereja berkicau merdu: Cit cit!.\n",
            "---------------\n",
            "-- Aksi untuk Burung Misterius --\n",
            "Burung Misterius terbang dengan cara umum.\n",
            "Burung Misterius mengeluarkan suara burung.\n",
            "---------------\n",
            "\n",
            "Aksi Burung:\n",
            "-- Aksi untuk Elang Jawa --\n",
            "Elang Jawa terbang tinggi melayang di angkasa.\n",
            "Elang Jawa berteriak nyaring!\n",
            "---------------\n",
            "-- Aksi untuk Pipit Gereja --\n",
            "Pipit Gereja terbang cepat di antara pepohonan.\n",
            "Pipit Gereja berkicau merdu: Cit cit!.\n",
            "---------------\n",
            "-- Aksi untuk Burung Misterius --\n",
            "Burung Misterius terbang dengan cara umum.\n",
            "Burung Misterius mengeluarkan suara burung.\n",
            "---------------\n"
          ]
        }
      ]
    },
    {
      "cell_type": "markdown",
      "source": [
        "##Praktikum 02: Polimorfisme dengan Duck Typing"
      ],
      "metadata": {
        "id": "WVSELs_Zp6Ou"
      }
    },
    {
      "cell_type": "code",
      "source": [
        "class Kucing:\n",
        "  def bersuara(self):\n",
        "    print(\"Kucing: Meow!\")\n",
        "\n",
        "class Anjing:\n",
        "  def bersuara(self):\n",
        "    print(\"Anjing: Guk guk!\")\n",
        "\n",
        "class Bebek:\n",
        "  def bersuara(self):\n",
        "    print(\"Bebek: Kwek kwek!\")\n",
        "\n",
        "class Mobil:\n",
        "  def jalankan(self):\n",
        "    print(\"Mobil: Brummm!\")\n",
        "\n",
        "def buat_suara(objek_yang_bisa_bersuara):\n",
        "  try:\n",
        "    objek_yang_bisa_bersuara.bersuara()\n",
        "  except AttributeError:\n",
        "    print(\"Objek {type(objek_yang_tidak_bisa_bersuara).__name__ tidak dapat bersuara.\")\n",
        "\n",
        "if __name__ == \"__main__\":\n",
        "  kucing1 = Kucing()\n",
        "  anjing1 = Anjing()\n",
        "  bebek1 = Bebek()\n",
        "  mobil1 = Mobil()\n",
        "\n",
        "  daftar_objek = [kucing1, anjing1, bebek1, mobil1]\n",
        "\n",
        "  print (\"Demonstrasi Duck Typing:\")\n",
        "  for item in daftar_objek:\n",
        "    buat_suara(item)"
      ],
      "metadata": {
        "colab": {
          "base_uri": "https://localhost:8080/"
        },
        "id": "p7kRqe3Sp-uO",
        "outputId": "255e31f5-d6e5-467e-d068-831b031c316c"
      },
      "execution_count": null,
      "outputs": [
        {
          "output_type": "stream",
          "name": "stdout",
          "text": [
            "Demonstrasi Duck Typing:\n",
            "Kucing: Meow!\n",
            "Anjing: Guk guk!\n",
            "Bebek: Kwek kwek!\n",
            "Objek {type(objek_yang_tidak_bisa_bersuara).__name__ tidak dapat bersuara.\n"
          ]
        }
      ]
    },
    {
      "cell_type": "markdown",
      "source": [
        "##Praktikum 03: Simulasi Overloading dalam Metode Kelas dengan *args"
      ],
      "metadata": {
        "id": "DeBFc3uArp92"
      }
    },
    {
      "cell_type": "code",
      "source": [
        "from inspect import FullArgSpec\n",
        "class KalkulatorSederhana:\n",
        "  def __init__(self,nama=\"Kalkulator\"):\n",
        "    self.nama = nama\n",
        "    print(f\"{self.nama} siap digunakan.\")\n",
        "\n",
        "  def tambah(self, *args):\n",
        "    print(f\"\\nMemanggil metode tambah dengan argumen: {args}\")\n",
        "    if not args:\n",
        "        print(\"Tidak ada angka untuk dijumlahkan.\")\n",
        "        return 0\n",
        "\n",
        "    total = 0\n",
        "    valid_input = True\n",
        "    for angka in args:\n",
        "      if isinstance(angka, (int, float)):\n",
        "          total += angka\n",
        "      else:\n",
        "            print(f\"Peringatan: Argumen '{angka}' bukan angka dan diabaikan.\")\n",
        "    valid_input = False\n",
        "\n",
        "    if valid_input:\n",
        "      print(f\"Hasil penjumlahan: {total}\")\n",
        "    else:\n",
        "      print(\"Hasil penjumlahan: (dengan beberapa input diabaikan): {total}\")\n",
        "      return total\n",
        "\n",
        "#Kode Utama\n",
        "if __name__ == \"__main__\":\n",
        "    calc = KalkulatorSederhana(\"Calc-01\")\n",
        "\n",
        "    print(\"\\n--- Percobaan Penjumlahan ---\")\n",
        "    calc.tambah(5, 10)\n",
        "    calc.tambah(2, 3, 5, 10)\n",
        "    calc.tambah(100)\n",
        "    calc.tambah()\n",
        "    calc.tambah(1, 2, \"tiga\", 4, 5.5)\n"
      ],
      "metadata": {
        "colab": {
          "base_uri": "https://localhost:8080/"
        },
        "id": "Xk2yfDiwrtvu",
        "outputId": "1eac6836-4813-4ae1-8498-f7ce40c9c691"
      },
      "execution_count": null,
      "outputs": [
        {
          "output_type": "stream",
          "name": "stdout",
          "text": [
            "Calc-01 siap digunakan.\n",
            "\n",
            "--- Percobaan Penjumlahan ---\n",
            "\n",
            "Memanggil metode tambah dengan argumen: (5, 10)\n",
            "Hasil penjumlahan: (dengan beberapa input diabaikan): {total}\n",
            "\n",
            "Memanggil metode tambah dengan argumen: (2, 3, 5, 10)\n",
            "Hasil penjumlahan: (dengan beberapa input diabaikan): {total}\n",
            "\n",
            "Memanggil metode tambah dengan argumen: (100,)\n",
            "Hasil penjumlahan: (dengan beberapa input diabaikan): {total}\n",
            "\n",
            "Memanggil metode tambah dengan argumen: ()\n",
            "Tidak ada angka untuk dijumlahkan.\n",
            "\n",
            "Memanggil metode tambah dengan argumen: (1, 2, 'tiga', 4, 5.5)\n",
            "Peringatan: Argumen 'tiga' bukan angka dan diabaikan.\n",
            "Hasil penjumlahan: (dengan beberapa input diabaikan): {total}\n"
          ]
        }
      ]
    },
    {
      "cell_type": "markdown",
      "source": [
        "##Praktikum 04: Simulasi Overloading dalam Metode Kelas dengan *args dan **kwargs"
      ],
      "metadata": {
        "id": "HGXuSvUsvLpe"
      }
    },
    {
      "cell_type": "code",
      "source": [
        "class DataProcessor:\n",
        "    def __init__(self, processor_id):\n",
        "        self.processor_id = processor_id\n",
        "        print (f\"Data Processor {self.processor_id} siap.\")\n",
        "    def process(self, *args, **kwargs):\n",
        "        print (f\"\\n--- {self.processor_id} Memproses Data ---\")\n",
        "\n",
        "        if args:\n",
        "            print(\"Argumen Posisi Diterima:\")\n",
        "            for i, arg in enumerate(args):\n",
        "              print(f\" args[{i}]: {arg} (tipe: {type(arg).__name__})\")\n",
        "        else:\n",
        "            print(\"Tidak ada argumen posisi.\")\n",
        "\n",
        "        if kwargs:\n",
        "            print(\"Argumen Kata Kunci Diterima:\")\n",
        "            for kunci, nilai in kwargs.items():\n",
        "              print(f\"  {kunci}: {nilai} (tipe: {type(nilai).__name__})\")\n",
        "        else:\n",
        "            print(\"Tidak ada argumen kata kunci.\")\n",
        "        print (\"--------------------------------\")\n",
        "\n",
        "#KodeUtama\n",
        "if __name__ == \"__main__\":\n",
        "    processor1 = DataProcessor(\"DP-001\")\n",
        "    print(\"\\nPanggilan 1: Tanpa argumen tambahan\")\n",
        "    processor1.process()\n",
        "\n",
        "    print(\"\\nPanggilan 2: Hanya argumen posisi\")\n",
        "    processor1.process(100, \"Status OK\", 99.9, False)\n",
        "\n",
        "    print(\"\\nPanggilan 3: Hanya argumen kata kunci\")\n",
        "    processor1.process(user=\"admin\", level=5, mode=\"verbose\")\n",
        "\n",
        "    print(\"\\nPanggilan 4: Kombinasi argumen posisi dan kata kunci\")\n",
        "    processor1.process(\"Task-A\", \"Task-B\", status=\"Running\", priority=\"High\", thread_id=54321)\n",
        "\n",
        "    print(\"\\nPanggilan 5: Argumen posisi kompleks\")\n",
        "    list_ids = [\"A1\", \"B2\", \"C3\"]\n",
        "    dict_params = {\"timeout\": 30, \"retry\": 3}\n",
        "    processor1.process(list_ids, dict_params, owner=\"system\", enabled=True)\n",
        "\n"
      ],
      "metadata": {
        "colab": {
          "base_uri": "https://localhost:8080/"
        },
        "id": "tC6hnF_bvQC0",
        "outputId": "3fd28e20-316a-4f3e-c5dd-6d6d5c20031b"
      },
      "execution_count": null,
      "outputs": [
        {
          "output_type": "stream",
          "name": "stdout",
          "text": [
            "Data Processor DP-001 siap.\n",
            "\n",
            "Panggilan 1: Tanpa argumen tambahan\n",
            "\n",
            "--- DP-001 Memproses Data ---\n",
            "Tidak ada argumen posisi.\n",
            "Tidak ada argumen kata kunci.\n",
            "--------------------------------\n",
            "\n",
            "Panggilan 2: Hanya argumen posisi\n",
            "\n",
            "--- DP-001 Memproses Data ---\n",
            "Argumen Posisi Diterima:\n",
            " args[0]: 100 (tipe: int)\n",
            " args[1]: Status OK (tipe: str)\n",
            " args[2]: 99.9 (tipe: float)\n",
            " args[3]: False (tipe: bool)\n",
            "Tidak ada argumen kata kunci.\n",
            "--------------------------------\n",
            "\n",
            "Panggilan 3: Hanya argumen kata kunci\n",
            "\n",
            "--- DP-001 Memproses Data ---\n",
            "Tidak ada argumen posisi.\n",
            "Argumen Kata Kunci Diterima:\n",
            "  user: admin (tipe: str)\n",
            "  level: 5 (tipe: int)\n",
            "  mode: verbose (tipe: str)\n",
            "--------------------------------\n",
            "\n",
            "Panggilan 4: Kombinasi argumen posisi dan kata kunci\n",
            "\n",
            "--- DP-001 Memproses Data ---\n",
            "Argumen Posisi Diterima:\n",
            " args[0]: Task-A (tipe: str)\n",
            " args[1]: Task-B (tipe: str)\n",
            "Argumen Kata Kunci Diterima:\n",
            "  status: Running (tipe: str)\n",
            "  priority: High (tipe: str)\n",
            "  thread_id: 54321 (tipe: int)\n",
            "--------------------------------\n",
            "\n",
            "Panggilan 5: Argumen posisi kompleks\n",
            "\n",
            "--- DP-001 Memproses Data ---\n",
            "Argumen Posisi Diterima:\n",
            " args[0]: ['A1', 'B2', 'C3'] (tipe: list)\n",
            " args[1]: {'timeout': 30, 'retry': 3} (tipe: dict)\n",
            "Argumen Kata Kunci Diterima:\n",
            "  owner: system (tipe: str)\n",
            "  enabled: True (tipe: bool)\n",
            "--------------------------------\n"
          ]
        }
      ]
    },
    {
      "cell_type": "markdown",
      "source": [
        "##Praktikum 05: Kombinasi Polimorfisme (Inheritance & Duck Typing)"
      ],
      "metadata": {
        "id": "HhfcgBmTzuJi"
      }
    },
    {
      "cell_type": "code",
      "source": [
        "import math\n",
        "\n",
        "class Bentuk:\n",
        "  def nama_bentuk(self):\n",
        "    return \"Bentuk Generik\"\n",
        "\n",
        "  def hitung_luas(self):\n",
        "    raise NotImplementedError(\"Subclass harus mengimplementasikan metode ini\")\n",
        "\n",
        "class Lingkaran(Bentuk):\n",
        "  def __init__(self, radius):\n",
        "      self.radius = radius\n",
        "\n",
        "  def nama_bentuk(self):\n",
        "      return \"Lingkaran\"\n",
        "\n",
        "  def hitung_luas(self):\n",
        "      return math.pi * self.radius ** 2\n",
        "\n",
        "class Persegi(Bentuk):\n",
        "  def __init__(self, sisi):\n",
        "      self.sisi = sisi\n",
        "\n",
        "  def hitung_luas(self):\n",
        "      return \"Persegi\"\n",
        "\n",
        "  def hitung_luas(self):\n",
        "      return self.sisi * self.sisi\n",
        "\n",
        "class TaplakMeja:\n",
        "  def __init__(self, panjang, lebar):\n",
        "      self.panjang = panjang\n",
        "      self.lebar = lebar\n",
        "\n",
        "  def hitung_luas(self):\n",
        "      return self.panjang * self.lebar\n",
        "\n",
        "  def deskripsi(self):\n",
        "      return f\"Taplak meja {self.panjang}x{self.lebar}\"\n",
        "\n",
        "def tampilkan_info_luas(objek_dengan_luas):\n",
        "    print(\"-\" * 20)\n",
        "    try:\n",
        "      luas = objek_dengan_luas.hitung_luas()\n",
        "\n",
        "      try:\n",
        "          nama = objek_dengan_luas.nama_bentuk()\n",
        "      except AttributeError:\n",
        "          nama = type(objek_dengan_luas).__name__\n",
        "\n",
        "      print(f\"Objek: {nama}\")\n",
        "      print(f\"Luas: {luas:2f}\")\n",
        "\n",
        "    except AttributeError:\n",
        "        print(f\"Objek {type(objek_dengan_luas).__name__} tidak dapat dihitung luasnya (metode tidak ditemukan).\")\n",
        "    except NotImplementedError:\n",
        "        print(f\"Metode 'hitung_luas' belum diimplementasi untuk {type(objek_dengan_luas).__name__}.\")\n",
        "\n",
        "#KodeUtama\n",
        "if __name__ == \"__main__\":\n",
        "    lingkaran1 = Lingkaran(7)\n",
        "    persegi1 = Persegi(5)\n",
        "    taplak1 = TaplakMeja(1.5, 0.8)\n",
        "    bentuk_dasar = Bentuk()\n",
        "    string_biasa = \"Ini string\"\n",
        "\n",
        "    daftar_item = [lingkaran1, persegi1, taplak1, bentuk_dasar, string_biasa]\n",
        "\n",
        "    print(\"Menampilkan Info Luas (Polimorfisme Campuran):\")\n",
        "    for item in daftar_item:\n",
        "        tampilkan_info_luas(item)\n",
        "\n",
        "\n"
      ],
      "metadata": {
        "colab": {
          "base_uri": "https://localhost:8080/"
        },
        "id": "EAjg_G3k0HR6",
        "outputId": "74bccdcf-f442-4b4d-ffc0-aff94146dfe3"
      },
      "execution_count": null,
      "outputs": [
        {
          "output_type": "stream",
          "name": "stdout",
          "text": [
            "Menampilkan Info Luas (Polimorfisme Campuran):\n",
            "--------------------\n",
            "Objek: Lingkaran\n",
            "Luas: 153.938040\n",
            "--------------------\n",
            "Objek: Bentuk Generik\n",
            "Luas: 25.000000\n",
            "--------------------\n",
            "Objek: TaplakMeja\n",
            "Luas: 1.200000\n",
            "--------------------\n",
            "Metode 'hitung_luas' belum diimplementasi untuk Bentuk.\n",
            "--------------------\n",
            "Objek str tidak dapat dihitung luasnya (metode tidak ditemukan).\n"
          ]
        }
      ]
    },
    {
      "cell_type": "markdown",
      "source": [
        "##Praktikum 06: Kontrol Perilaku Polimorfik dengan isinstance()"
      ],
      "metadata": {
        "id": "aGh_SVQ55SAj"
      }
    },
    {
      "cell_type": "code",
      "source": [
        "class Burung:\n",
        "    def __init__(self, nama):\n",
        "        self.nama = nama\n",
        "    def terbang(self):\n",
        "        print(f\"{self.nama} terbang dengan cara umum.\")\n",
        "    def bersuara(self):\n",
        "        print(f\"{self.nama} mengeluarkan suara burung.\")\n",
        "\n",
        "class Elang(Burung):\n",
        "    def __init__(self, nama, rentang_sayap):\n",
        "        super().__init__(nama)\n",
        "        self.rentang_sayap = rentang_sayap\n",
        "    def terbang(self):\n",
        "        print(f\"{self.nama} terbang tinggi melayang di angkasa.\")\n",
        "    def bersuara(self):\n",
        "        print(f\"{self.nama} berteriak nyaring!\")\n",
        "    def berburu(self):\n",
        "        print(f\"{self.nama} sedang mencari mangsa dari ketinggian.\")\n",
        "\n",
        "class Pipit(Burung):\n",
        "    def __init__(self, nama, warna_bulu):\n",
        "        super().__init__(nama)\n",
        "        self.warna_bulu = warna_bulu\n",
        "    def terbang(self):\n",
        "        print(f\"{self.nama} terbang cepat di antara pepohonan.\")\n",
        "    def bersuara(self):\n",
        "        print(f\"{self.nama} berkicau merdu: Cit cit!.\")\n",
        "    def membangun_sarang(self):\n",
        "        print(f\"{self.nama} sedang mengumpulkan ranting untuk sarang.\")\n",
        "\n",
        "def interaksi_dengan_burung(burung):\n",
        "    print(f\"\\n--- Berinteraksi dengan {type(burung).__name__}:{getattr(burung, 'nama', 'Objek tidak dikenal')} ---\")\n",
        "\n",
        "    if isinstance(burung, Burung):\n",
        "        burung.terbang()\n",
        "        burung.bersuara()\n",
        "\n",
        "        if isinstance(burung, Elang):\n",
        "           print(\"-> Ini adalah Elang!\")\n",
        "           burung.berburu()\n",
        "        elif isinstance(burung, Pipit):\n",
        "           print(\"-> Ini adalah Pipit!\")\n",
        "           burung.membangun_sarang()\n",
        "        else:\n",
        "            print(\"-> Ini adalah burung jenis umum (bukan Elang/Pipit).\")\n",
        "    else:\n",
        "       print(\"-> Objek ini bukan termasuk jenis Burung.\")\n",
        "       print(\"-\" * 25)\n",
        "\n",
        "#KodeUtama\n",
        "if __name__ == \"__main__\":\n",
        "    elang_sumatra = Elang(\"Elang Sumatra\", 1.8)\n",
        "    pipit_rumah = Pipit(\"Pipit Rumah\", \"Abu-abu\")\n",
        "    merak = Burung (\"Merak\")\n",
        "    kucing_tetangga = \"Meong\"\n",
        "\n",
        "    koleksi_makhluk = [elang_sumatra, pipit_rumah, merak, kucing_tetangga]\n",
        "\n",
        "    for makhluk in koleksi_makhluk:\n",
        "      interaksi_dengan_burung(makhluk)"
      ],
      "metadata": {
        "colab": {
          "base_uri": "https://localhost:8080/"
        },
        "id": "ukTs_BVo5V4C",
        "outputId": "4c1da3d6-a2d6-47f0-fa61-e5fc5dc16e9b"
      },
      "execution_count": null,
      "outputs": [
        {
          "output_type": "stream",
          "name": "stdout",
          "text": [
            "\n",
            "--- Berinteraksi dengan Elang:Elang Sumatra ---\n",
            "Elang Sumatra terbang tinggi melayang di angkasa.\n",
            "Elang Sumatra berteriak nyaring!\n",
            "-> Ini adalah Elang!\n",
            "Elang Sumatra sedang mencari mangsa dari ketinggian.\n",
            "\n",
            "--- Berinteraksi dengan Pipit:Pipit Rumah ---\n",
            "Pipit Rumah terbang cepat di antara pepohonan.\n",
            "Pipit Rumah berkicau merdu: Cit cit!.\n",
            "-> Ini adalah Pipit!\n",
            "Pipit Rumah sedang mengumpulkan ranting untuk sarang.\n",
            "\n",
            "--- Berinteraksi dengan Burung:Merak ---\n",
            "Merak terbang dengan cara umum.\n",
            "Merak mengeluarkan suara burung.\n",
            "-> Ini adalah burung jenis umum (bukan Elang/Pipit).\n",
            "\n",
            "--- Berinteraksi dengan str:Objek tidak dikenal ---\n",
            "-> Objek ini bukan termasuk jenis Burung.\n",
            "-------------------------\n"
          ]
        }
      ]
    },
    {
      "cell_type": "markdown",
      "source": [
        "##Penugasan"
      ],
      "metadata": {
        "id": "yo5resPiLIyp"
      }
    },
    {
      "cell_type": "code",
      "source": [
        "class Komputer:\n",
        "    def __init__(self, merk, processor, ram_gb):\n",
        "        self.merk = merk\n",
        "        self.processor = processor\n",
        "        self.ram_gb = ram_gb\n",
        "\n",
        "    def info_spesifikasi(self):\n",
        "        print(f\"Merk: {self.merk}\")\n",
        "        print(f\"Processor: {self.processor}\")\n",
        "        print(f\"RAM: {self.ram_gb} GB\")\n",
        "\n",
        "    def jalankan_aplikasi(self, nama_aplikasi):\n",
        "        print(f\"{self.merk} menjalankan aplikasi: {nama_aplikasi}...\")\n",
        "\n",
        "    # Simulasi Overloading - Opsi A (Default Argument)\n",
        "    def upgrade_ram(self, tambahan_gb, tipe_ram='DDR4'):\n",
        "        self.ram_gb += tambahan_gb\n",
        "        print(f\"RAM {self.merk} diupgrade sebesar {tambahan_gb} GB (Tipe: {tipe_ram}). Total RAM sekarang: {self.ram_gb} GB.\")\n",
        "\n",
        "\n",
        "class Laptop(Komputer):\n",
        "    def __init__(self, merk, processor, ram_gb, ukuran_layar_inch, berat_kg):\n",
        "        super().__init__(merk, processor, ram_gb)\n",
        "        self.ukuran_layar_inch = ukuran_layar_inch\n",
        "        self.berat_kg = berat_kg\n",
        "\n",
        "    def info_spesifikasi(self):\n",
        "        super().info_spesifikasi()\n",
        "        print(f\"Ukuran Layar: {self.ukuran_layar_inch} inch\")\n",
        "        print(f\"Berat: {self.berat_kg} Kg\")\n",
        "\n",
        "\n",
        "class Desktop(Komputer):\n",
        "    def __init__(self, merk, processor, ram_gb, jenis_casing, monitor_external):\n",
        "        super().__init__(merk, processor, ram_gb)\n",
        "        self.jenis_casing = jenis_casing\n",
        "        self.monitor_external = monitor_external\n",
        "\n",
        "    def info_spesifikasi(self):\n",
        "        super().info_spesifikasi()\n",
        "        print(f\"Jenis Casing: {self.jenis_casing}\")\n",
        "        print(f\"Monitor External: {'Ya' if self.monitor_external else 'Tidak'}\")\n",
        "\n",
        "\n",
        "# Demonstrasi Polimorfisme\n",
        "def cetak_semua_spesifikasi(daftar_komputer):\n",
        "    for komputer in daftar_komputer:\n",
        "        print(\"\\n=== Spesifikasi ===\")\n",
        "        komputer.info_spesifikasi()\n",
        "\n",
        "\n",
        "# Kode Utama\n",
        "if __name__ == \"__main__\":\n",
        "    laptop1 = Laptop(\"Dell\", \"Intel i7\", 16, 15.6, 1.8)\n",
        "    desktop1 = Desktop(\"HP\", \"AMD Ryzen 5\", 8, \"Tower\", True)\n",
        "\n",
        "    # Masukkan ke dalam list\n",
        "    daftar_komputer = [laptop1, desktop1]\n",
        "\n",
        "    # Polimorfisme: Cetak semua spesifikasi\n",
        "    cetak_semua_spesifikasi(daftar_komputer)\n",
        "\n",
        "    # Simulasi Overloading\n",
        "    print(\"\\n=== Simulasi Overloading ===\")\n",
        "    laptop1.upgrade_ram(8)            # Dengan default tipe RAM\n",
        "    desktop1.upgrade_ram(16, \"DDR5\")  # Dengan tipe RAM yang ditentukan\n"
      ],
      "metadata": {
        "id": "0jdinUVaLMpQ",
        "colab": {
          "base_uri": "https://localhost:8080/"
        },
        "outputId": "7377b05e-e8f8-4385-8f62-9aa5fb529abc"
      },
      "execution_count": 6,
      "outputs": [
        {
          "output_type": "stream",
          "name": "stdout",
          "text": [
            "\n",
            "=== Spesifikasi ===\n",
            "Merk: Dell\n",
            "Processor: Intel i7\n",
            "RAM: 16 GB\n",
            "Ukuran Layar: 15.6 inch\n",
            "Berat: 1.8 Kg\n",
            "\n",
            "=== Spesifikasi ===\n",
            "Merk: HP\n",
            "Processor: AMD Ryzen 5\n",
            "RAM: 8 GB\n",
            "Jenis Casing: Tower\n",
            "Monitor External: Ya\n",
            "\n",
            "=== Simulasi Overloading ===\n",
            "RAM Dell diupgrade sebesar 8 GB (Tipe: DDR4). Total RAM sekarang: 24 GB.\n",
            "RAM HP diupgrade sebesar 16 GB (Tipe: DDR5). Total RAM sekarang: 24 GB.\n"
          ]
        }
      ]
    }
  ],
  "metadata": {
    "colab": {
      "provenance": [],
      "include_colab_link": true
    },
    "kernelspec": {
      "display_name": "Python 3",
      "name": "python3"
    }
  },
  "nbformat": 4,
  "nbformat_minor": 0
}