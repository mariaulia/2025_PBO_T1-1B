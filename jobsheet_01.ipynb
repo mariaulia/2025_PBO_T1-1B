{
  "nbformat": 4,
  "nbformat_minor": 0,
  "metadata": {
    "colab": {
      "provenance": [],
      "toc_visible": true,
      "authorship_tag": "ABX9TyN44QR6L5jtmA2ZpJMSY7v3",
      "include_colab_link": true
    },
    "kernelspec": {
      "name": "python3",
      "display_name": "Python 3"
    },
    "language_info": {
      "name": "python"
    }
  },
  "cells": [
    {
      "cell_type": "markdown",
      "metadata": {
        "id": "view-in-github",
        "colab_type": "text"
      },
      "source": [
        "<a href=\"https://colab.research.google.com/github/mariaulia/Maria-Aulia/blob/main/jobsheet_01.ipynb\" target=\"_parent\"><img src=\"https://colab.research.google.com/assets/colab-badge.svg\" alt=\"Open In Colab\"/></a>"
      ]
    },
    {
      "cell_type": "markdown",
      "source": [
        "# Jobsheet 01: Dasar Pemrograman Bahasa Python"
      ],
      "metadata": {
        "id": "AU11wCd3sGba"
      }
    },
    {
      "cell_type": "markdown",
      "source": [
        "# Praktikum 01"
      ],
      "metadata": {
        "id": "M7d3oxMpsTxN"
      }
    },
    {
      "cell_type": "code",
      "source": [],
      "metadata": {
        "id": "-bt5dysIsRkQ"
      },
      "execution_count": null,
      "outputs": []
    }
  ]
}